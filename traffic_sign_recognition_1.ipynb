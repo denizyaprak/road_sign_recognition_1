{
 "cells": [
  {
   "cell_type": "code",
   "execution_count": 72,
   "metadata": {},
   "outputs": [],
   "source": [
    "import tensorflow as tf\n",
    "from tensorflow.keras import layers, models\n",
    "import numpy as np\n",
    "import matplotlib.pyplot as plt\n"
   ]
  },
  {
   "cell_type": "code",
   "execution_count": 73,
   "metadata": {},
   "outputs": [],
   "source": [
    "IMAGE_SIZE = 30\n",
    "BATCH_SIZE = 32\n",
    "CHANNELS = 3\n",
    "EPOCHS = 50"
   ]
  },
  {
   "cell_type": "code",
   "execution_count": 74,
   "metadata": {},
   "outputs": [
    {
     "name": "stdout",
     "output_type": "stream",
     "text": [
      "Found 39209 files belonging to 43 classes.\n"
     ]
    }
   ],
   "source": [
    "dataset = tf.keras.preprocessing.image_dataset_from_directory(\n",
    "    'Train',\n",
    "    shuffle = True,\n",
    "    batch_size = BATCH_SIZE,\n",
    "    image_size = (IMAGE_SIZE, IMAGE_SIZE),\n",
    "    seed = 123,\n",
    ")"
   ]
  },
  {
   "cell_type": "code",
   "execution_count": 75,
   "metadata": {},
   "outputs": [
    {
     "data": {
      "text/plain": [
       "['0',\n",
       " '1',\n",
       " '10',\n",
       " '11',\n",
       " '12',\n",
       " '13',\n",
       " '14',\n",
       " '15',\n",
       " '16',\n",
       " '17',\n",
       " '18',\n",
       " '19',\n",
       " '2',\n",
       " '20',\n",
       " '21',\n",
       " '22',\n",
       " '23',\n",
       " '24',\n",
       " '25',\n",
       " '26',\n",
       " '27',\n",
       " '28',\n",
       " '29',\n",
       " '3',\n",
       " '30',\n",
       " '31',\n",
       " '32',\n",
       " '33',\n",
       " '34',\n",
       " '35',\n",
       " '36',\n",
       " '37',\n",
       " '38',\n",
       " '39',\n",
       " '4',\n",
       " '40',\n",
       " '41',\n",
       " '42',\n",
       " '5',\n",
       " '6',\n",
       " '7',\n",
       " '8',\n",
       " '9']"
      ]
     },
     "execution_count": 75,
     "metadata": {},
     "output_type": "execute_result"
    }
   ],
   "source": [
    "cls_names = dataset.class_names\n",
    "cls_names"
   ]
  },
  {
   "cell_type": "code",
   "execution_count": 76,
   "metadata": {},
   "outputs": [
    {
     "data": {
      "text/plain": [
       "[0,\n",
       " 1,\n",
       " 10,\n",
       " 11,\n",
       " 12,\n",
       " 13,\n",
       " 14,\n",
       " 15,\n",
       " 16,\n",
       " 17,\n",
       " 18,\n",
       " 19,\n",
       " 2,\n",
       " 20,\n",
       " 21,\n",
       " 22,\n",
       " 23,\n",
       " 24,\n",
       " 25,\n",
       " 26,\n",
       " 27,\n",
       " 28,\n",
       " 29,\n",
       " 3,\n",
       " 30,\n",
       " 31,\n",
       " 32,\n",
       " 33,\n",
       " 34,\n",
       " 35,\n",
       " 36,\n",
       " 37,\n",
       " 38,\n",
       " 39,\n",
       " 4,\n",
       " 40,\n",
       " 41,\n",
       " 42,\n",
       " 5,\n",
       " 6,\n",
       " 7,\n",
       " 8,\n",
       " 9]"
      ]
     },
     "execution_count": 76,
     "metadata": {},
     "output_type": "execute_result"
    }
   ],
   "source": [
    "class_names_in_num = list(cls_names)\n",
    "class_names_in_num = [int(i) for i in class_names_in_num]\n",
    "class_names_in_num"
   ]
  },
  {
   "cell_type": "code",
   "execution_count": 77,
   "metadata": {},
   "outputs": [],
   "source": [
    "# Classes of trafic signs\n",
    "classes = { 0:'Speed limit (20km/h)',\n",
    "            1:'Speed limit (30km/h)', \n",
    "            2:'Speed limit (50km/h)', \n",
    "            3:'Speed limit (60km/h)', \n",
    "            4:'Speed limit (70km/h)', \n",
    "            5:'Speed limit (80km/h)', \n",
    "            6:'End of speed limit (80km/h)', \n",
    "            7:'Speed limit (100km/h)', \n",
    "            8:'Speed limit (120km/h)', \n",
    "            9:'No passing', \n",
    "            10:'No passing veh over 3.5 tons', \n",
    "            11:'Right-of-way at intersection', \n",
    "            12:'Priority road', \n",
    "            13:'Yield', \n",
    "            14:'Stop', \n",
    "            15:'No vehicles', \n",
    "            16:'Veh > 3.5 tons prohibited', \n",
    "            17:'No entry', \n",
    "            18:'General caution', \n",
    "            19:'Dangerous curve left', \n",
    "            20:'Dangerous curve right', \n",
    "            21:'Double curve', \n",
    "            22:'Bumpy road', \n",
    "            23:'Slippery road', \n",
    "            24:'Road narrows on the right', \n",
    "            25:'Road work', \n",
    "            26:'Traffic signals', \n",
    "            27:'Pedestrians', \n",
    "            28:'Children crossing', \n",
    "            29:'Bicycles crossing', \n",
    "            30:'Beware of ice/snow',\n",
    "            31:'Wild animals crossing', \n",
    "            32:'End speed + passing limits', \n",
    "            33:'Turn right ahead', \n",
    "            34:'Turn left ahead', \n",
    "            35:'Ahead only', \n",
    "            36:'Go straight or right', \n",
    "            37:'Go straight or left', \n",
    "            38:'Keep right', \n",
    "            39:'Keep left', \n",
    "            40:'Roundabout mandatory', \n",
    "            41:'End of no passing', \n",
    "            42:'End no passing veh > 3.5 tons' }\n"
   ]
  },
  {
   "cell_type": "code",
   "execution_count": 78,
   "metadata": {},
   "outputs": [
    {
     "data": {
      "text/plain": [
       "['Speed limit (20km/h)',\n",
       " 'Speed limit (30km/h)',\n",
       " 'No passing veh over 3.5 tons',\n",
       " 'Right-of-way at intersection',\n",
       " 'Priority road',\n",
       " 'Yield',\n",
       " 'Stop',\n",
       " 'No vehicles',\n",
       " 'Veh > 3.5 tons prohibited',\n",
       " 'No entry',\n",
       " 'General caution',\n",
       " 'Dangerous curve left',\n",
       " 'Speed limit (50km/h)',\n",
       " 'Dangerous curve right',\n",
       " 'Double curve',\n",
       " 'Bumpy road',\n",
       " 'Slippery road',\n",
       " 'Road narrows on the right',\n",
       " 'Road work',\n",
       " 'Traffic signals',\n",
       " 'Pedestrians',\n",
       " 'Children crossing',\n",
       " 'Bicycles crossing',\n",
       " 'Speed limit (60km/h)',\n",
       " 'Beware of ice/snow',\n",
       " 'Wild animals crossing',\n",
       " 'End speed + passing limits',\n",
       " 'Turn right ahead',\n",
       " 'Turn left ahead',\n",
       " 'Ahead only',\n",
       " 'Go straight or right',\n",
       " 'Go straight or left',\n",
       " 'Keep right',\n",
       " 'Keep left',\n",
       " 'Speed limit (70km/h)',\n",
       " 'Roundabout mandatory',\n",
       " 'End of no passing',\n",
       " 'End no passing veh > 3.5 tons',\n",
       " 'Speed limit (80km/h)',\n",
       " 'End of speed limit (80km/h)',\n",
       " 'Speed limit (100km/h)',\n",
       " 'Speed limit (120km/h)',\n",
       " 'No passing']"
      ]
     },
     "execution_count": 78,
     "metadata": {},
     "output_type": "execute_result"
    }
   ],
   "source": [
    "CLASS_NAMES = []\n",
    "for i in class_names_in_num:\n",
    "    CLASS_NAMES.append(classes[i])\n",
    "CLASS_NAMES"
   ]
  },
  {
   "cell_type": "code",
   "execution_count": 79,
   "metadata": {},
   "outputs": [
    {
     "data": {
      "text/plain": [
       "1226"
      ]
     },
     "execution_count": 79,
     "metadata": {},
     "output_type": "execute_result"
    }
   ],
   "source": [
    "len(dataset)"
   ]
  },
  {
   "cell_type": "code",
   "execution_count": 81,
   "metadata": {},
   "outputs": [
    {
     "name": "stdout",
     "output_type": "stream",
     "text": [
      "15\n",
      "Bumpy road\n"
     ]
    },
    {
     "data": {
      "image/png": "[encoded data removed]",
      "text/plain": [
       "<Figure size 432x288 with 1 Axes>"
      ]
     },
     "metadata": {
      "needs_background": "light"
     },
     "output_type": "display_data"
    }
   ],
   "source": [
    "for images, labels in dataset.take(1):\n",
    "    index = 4\n",
    "    plt.imshow(images[index].numpy().astype(\"uint8\"))\n",
    "    print(labels[index].numpy())\n",
    "    print(CLASS_NAMES[labels[index].numpy()])"
   ]
  },
  {
   "cell_type": "code",
   "execution_count": 83,
   "metadata": {},
   "outputs": [
    {
     "name": "stdout",
     "output_type": "stream",
     "text": [
      "(32, 30, 30, 3)\n",
      "[40 23 18 12  3 27  2  2 12  1 39  5  2 12 32  4  5 42  8 41 32  4 12 37\n",
      "  3  4 27  5 42 34  4 35]\n"
     ]
    }
   ],
   "source": [
    "for images, labels in dataset.take(1):\n",
    "    print(images.shape)\n",
    "    print(labels.numpy())\n"
   ]
  },
  {
   "cell_type": "markdown",
   "metadata": {},
   "source": [
    "# TRAIN TEST SPLIT FUNCTION"
   ]
  },
  {
   "cell_type": "code",
   "execution_count": 84,
   "metadata": {},
   "outputs": [
    {
     "name": "stdout",
     "output_type": "stream",
     "text": [
      "the number of batches for training: 980\n",
      "the number of batches for validation: 122\n",
      "the number of batches for testing: 124\n"
     ]
    }
   ],
   "source": [
    "def get_train_test_split(ds, train_split = 0.8, val_split = 0.1, test_split = 0.1, shuffle = True, shuffle_size = 1000):\n",
    "    assert(train_split + val_split + test_split) == 1\n",
    "    if shuffle:\n",
    "        ds.shuffle(shuffle_size, seed = 12)\n",
    "    ds_size = len(ds)\n",
    "    train_size = int(ds_size*train_split)\n",
    "    val_size = int(ds_size*val_split)\n",
    "\n",
    "    train_ds = ds.take(train_size)\n",
    "    val_ds = ds.skip(train_size).take(val_size)\n",
    "    test_ds = ds.skip(train_size).skip(val_size)\n",
    "\n",
    "    return train_ds, val_ds, test_ds\n",
    "\n",
    "train_ds, val_ds, test_ds = get_train_test_split(ds = dataset)\n",
    "\n",
    "print(f\"the number of batches for training: {len(train_ds)}\")\n",
    "print(f\"the number of batches for validation: {len(val_ds)}\")\n",
    "print(f\"the number of batches for testing: {len(test_ds)}\")"
   ]
  },
  {
   "cell_type": "markdown",
   "metadata": {},
   "source": [
    "# Cache, Shuffling and Prefetching"
   ]
  },
  {
   "cell_type": "code",
   "execution_count": 85,
   "metadata": {},
   "outputs": [],
   "source": [
    "train_ds = train_ds.cache().shuffle(10000).prefetch(buffer_size = tf.data.AUTOTUNE)\n",
    "val_ds = val_ds.cache().shuffle(10000).prefetch(buffer_size = tf.data.AUTOTUNE)\n",
    "test_ds = test_ds.cache().shuffle(10000).prefetch(buffer_size = tf.data.AUTOTUNE)"
   ]
  },
  {
   "cell_type": "markdown",
   "metadata": {},
   "source": [
    "# BUILDING THE MODEL"
   ]
  },
  {
   "cell_type": "code",
   "execution_count": 87,
   "metadata": {},
   "outputs": [
    {
     "name": "stdout",
     "output_type": "stream",
     "text": [
      "Model: \"sequential_8\"\n",
      "_________________________________________________________________\n",
      "Layer (type)                 Output Shape              Param #   \n",
      "=================================================================\n",
      "sequential_6 (Sequential)    (32, 30, 30, 3)           0         \n",
      "_________________________________________________________________\n",
      "sequential_7 (Sequential)    (32, 30, 30, 3)           0         \n",
      "_________________________________________________________________\n",
      "conv2d_6 (Conv2D)            (32, 28, 28, 32)          896       \n",
      "_________________________________________________________________\n",
      "max_pooling2d_6 (MaxPooling2 (32, 14, 14, 32)          0         \n",
      "_________________________________________________________________\n",
      "conv2d_7 (Conv2D)            (32, 12, 12, 64)          18496     \n",
      "_________________________________________________________________\n",
      "max_pooling2d_7 (MaxPooling2 (32, 6, 6, 64)            0         \n",
      "_________________________________________________________________\n",
      "conv2d_8 (Conv2D)            (32, 4, 4, 64)            36928     \n",
      "_________________________________________________________________\n",
      "max_pooling2d_8 (MaxPooling2 (32, 2, 2, 64)            0         \n",
      "_________________________________________________________________\n",
      "flatten_2 (Flatten)          (32, 256)                 0         \n",
      "_________________________________________________________________\n",
      "dense_4 (Dense)              (32, 64)                  16448     \n",
      "_________________________________________________________________\n",
      "dense_5 (Dense)              (32, 43)                  2795      \n",
      "=================================================================\n",
      "Total params: 75,563\n",
      "Trainable params: 75,563\n",
      "Non-trainable params: 0\n",
      "_________________________________________________________________\n"
     ]
    }
   ],
   "source": [
    "resize_and_rescale = tf.keras.Sequential([\n",
    "    layers.experimental.preprocessing.Resizing(IMAGE_SIZE, IMAGE_SIZE),\n",
    "    layers.experimental.preprocessing.Rescaling(1/255),\n",
    "])\n",
    "\n",
    "data_augmentation = tf.keras.Sequential([\n",
    "    layers.experimental.preprocessing.RandomRotation(0.2),\n",
    "])\n",
    "\n",
    "INPUT_SHAPE = (BATCH_SIZE, IMAGE_SIZE, IMAGE_SIZE, CHANNELS)\n",
    "n_classes = len(CLASS_NAMES)  # 43\n",
    "\n",
    "model = tf.keras.models.Sequential([\n",
    "    resize_and_rescale,\n",
    "    data_augmentation,\n",
    "\n",
    "    layers.Conv2D(32, kernel_size = (3,3), activation = \"relu\", input_shape = INPUT_SHAPE), # 30 -(3-1) = 28\n",
    "    layers.MaxPooling2D(pool_size = (2,2)), # 28/2 = 14\n",
    "\n",
    "    layers.Conv2D(64, kernel_size = (3,3), activation= 'relu'), # 14 -(3-1) = 12\n",
    "    layers.MaxPooling2D(pool_size=(2,2)), # 12/2 = 6\n",
    "\n",
    "    layers.Conv2D(filters = 64, kernel_size = (3,3), activation = 'relu'), # 6-(3-1) = 4\n",
    "    layers.MaxPooling2D(pool_size=(2,2)), # 4/2 = 2\n",
    "\n",
    "\n",
    "    layers.Flatten(),\n",
    "    layers.Dense(64,activation = 'relu'),\n",
    "    layers.Dense(n_classes, activation='softmax')\n",
    "])\n",
    "\n",
    "model.build(input_shape = INPUT_SHAPE)\n",
    "model.summary()"
   ]
  },
  {
   "cell_type": "markdown",
   "metadata": {},
   "source": [
    "# COMPILE AND FIT"
   ]
  },
  {
   "cell_type": "code",
   "execution_count": 88,
   "metadata": {},
   "outputs": [
    {
     "name": "stdout",
     "output_type": "stream",
     "text": [
      "Epoch 1/50\n",
      "980/980 [==============================] - 268s 53ms/step - loss: 2.2091 - accuracy: 0.3558 - val_loss: 1.2505 - val_accuracy: 0.6127\n",
      "Epoch 2/50\n",
      "980/980 [==============================] - 35s 36ms/step - loss: 1.0648 - accuracy: 0.6535 - val_loss: 0.6881 - val_accuracy: 0.7779\n",
      "Epoch 3/50\n",
      "980/980 [==============================] - 36s 36ms/step - loss: 0.6674 - accuracy: 0.7818 - val_loss: 0.4434 - val_accuracy: 0.8578\n",
      "Epoch 4/50\n",
      "980/980 [==============================] - 36s 36ms/step - loss: 0.4816 - accuracy: 0.8446 - val_loss: 0.3475 - val_accuracy: 0.8932\n",
      "Epoch 5/50\n",
      "980/980 [==============================] - 36s 37ms/step - loss: 0.3756 - accuracy: 0.8810 - val_loss: 0.2948 - val_accuracy: 0.9096\n",
      "Epoch 6/50\n",
      "980/980 [==============================] - 36s 36ms/step - loss: 0.3126 - accuracy: 0.9009 - val_loss: 0.2768 - val_accuracy: 0.9129\n",
      "Epoch 7/50\n",
      "980/980 [==============================] - 36s 36ms/step - loss: 0.2666 - accuracy: 0.9157 - val_loss: 0.1968 - val_accuracy: 0.9390\n",
      "Epoch 8/50\n",
      "980/980 [==============================] - 37s 37ms/step - loss: 0.2319 - accuracy: 0.9263 - val_loss: 0.1719 - val_accuracy: 0.9444\n",
      "Epoch 9/50\n",
      "980/980 [==============================] - 43s 44ms/step - loss: 0.2108 - accuracy: 0.9345 - val_loss: 0.1657 - val_accuracy: 0.9485\n",
      "Epoch 10/50\n",
      "980/980 [==============================] - 41s 42ms/step - loss: 0.1890 - accuracy: 0.9414 - val_loss: 0.1979 - val_accuracy: 0.9372\n",
      "Epoch 11/50\n",
      "980/980 [==============================] - 36s 37ms/step - loss: 0.1812 - accuracy: 0.9433 - val_loss: 0.1456 - val_accuracy: 0.9577\n",
      "Epoch 12/50\n",
      "980/980 [==============================] - 36s 37ms/step - loss: 0.1599 - accuracy: 0.9496 - val_loss: 0.1279 - val_accuracy: 0.9593\n",
      "Epoch 13/50\n",
      "980/980 [==============================] - 36s 37ms/step - loss: 0.1482 - accuracy: 0.9543 - val_loss: 0.1382 - val_accuracy: 0.9585\n",
      "Epoch 14/50\n",
      "980/980 [==============================] - 36s 37ms/step - loss: 0.1406 - accuracy: 0.9570 - val_loss: 0.1102 - val_accuracy: 0.9680\n",
      "Epoch 15/50\n",
      "980/980 [==============================] - 36s 37ms/step - loss: 0.1281 - accuracy: 0.9606 - val_loss: 0.0997 - val_accuracy: 0.9690\n",
      "Epoch 16/50\n",
      "980/980 [==============================] - 36s 37ms/step - loss: 0.1298 - accuracy: 0.9603 - val_loss: 0.1150 - val_accuracy: 0.9608\n",
      "Epoch 17/50\n",
      "980/980 [==============================] - 36s 37ms/step - loss: 0.1187 - accuracy: 0.9642 - val_loss: 0.1146 - val_accuracy: 0.9649\n",
      "Epoch 18/50\n",
      "980/980 [==============================] - 36s 37ms/step - loss: 0.1123 - accuracy: 0.9645 - val_loss: 0.1058 - val_accuracy: 0.9693\n",
      "Epoch 19/50\n",
      "980/980 [==============================] - 35s 36ms/step - loss: 0.1074 - accuracy: 0.9666 - val_loss: 0.1740 - val_accuracy: 0.9536\n",
      "Epoch 20/50\n",
      "980/980 [==============================] - 35s 36ms/step - loss: 0.1080 - accuracy: 0.9663 - val_loss: 0.1002 - val_accuracy: 0.9700\n",
      "Epoch 21/50\n",
      "980/980 [==============================] - 35s 36ms/step - loss: 0.0975 - accuracy: 0.9697 - val_loss: 0.0889 - val_accuracy: 0.9677\n",
      "Epoch 22/50\n",
      "980/980 [==============================] - 35s 36ms/step - loss: 0.1000 - accuracy: 0.9689 - val_loss: 0.0996 - val_accuracy: 0.9685\n",
      "Epoch 23/50\n",
      "980/980 [==============================] - 35s 36ms/step - loss: 0.0983 - accuracy: 0.9692 - val_loss: 0.0907 - val_accuracy: 0.9728\n",
      "Epoch 24/50\n",
      "980/980 [==============================] - 35s 36ms/step - loss: 0.0922 - accuracy: 0.9706 - val_loss: 0.1037 - val_accuracy: 0.9677\n",
      "Epoch 25/50\n",
      "980/980 [==============================] - 35s 36ms/step - loss: 0.0881 - accuracy: 0.9722 - val_loss: 0.1045 - val_accuracy: 0.9680\n",
      "Epoch 26/50\n",
      "980/980 [==============================] - 35s 36ms/step - loss: 0.0892 - accuracy: 0.9714 - val_loss: 0.1612 - val_accuracy: 0.9531\n",
      "Epoch 27/50\n",
      "980/980 [==============================] - 35s 36ms/step - loss: 0.0880 - accuracy: 0.9721 - val_loss: 0.1101 - val_accuracy: 0.9690\n",
      "Epoch 28/50\n",
      "980/980 [==============================] - 35s 36ms/step - loss: 0.0891 - accuracy: 0.9722 - val_loss: 0.0917 - val_accuracy: 0.9700\n",
      "Epoch 29/50\n",
      "980/980 [==============================] - 35s 36ms/step - loss: 0.0863 - accuracy: 0.9736 - val_loss: 0.0797 - val_accuracy: 0.9767\n",
      "Epoch 30/50\n",
      "980/980 [==============================] - 35s 36ms/step - loss: 0.0872 - accuracy: 0.9724 - val_loss: 0.1030 - val_accuracy: 0.9718\n",
      "Epoch 31/50\n",
      "980/980 [==============================] - 35s 36ms/step - loss: 0.0779 - accuracy: 0.9754 - val_loss: 0.1169 - val_accuracy: 0.9657\n",
      "Epoch 32/50\n",
      "980/980 [==============================] - 35s 36ms/step - loss: 0.0790 - accuracy: 0.9756 - val_loss: 0.1023 - val_accuracy: 0.9688\n",
      "Epoch 33/50\n",
      "980/980 [==============================] - 35s 36ms/step - loss: 0.0732 - accuracy: 0.9775 - val_loss: 0.0844 - val_accuracy: 0.9759\n",
      "Epoch 34/50\n",
      "980/980 [==============================] - 35s 36ms/step - loss: 0.0734 - accuracy: 0.9765 - val_loss: 0.0983 - val_accuracy: 0.9746\n",
      "Epoch 35/50\n",
      "980/980 [==============================] - 36s 37ms/step - loss: 0.0731 - accuracy: 0.9769 - val_loss: 0.0798 - val_accuracy: 0.9757\n",
      "Epoch 36/50\n",
      "980/980 [==============================] - 35s 36ms/step - loss: 0.0722 - accuracy: 0.9772 - val_loss: 0.0889 - val_accuracy: 0.9713\n",
      "Epoch 37/50\n",
      "980/980 [==============================] - 35s 36ms/step - loss: 0.0670 - accuracy: 0.9790 - val_loss: 0.1297 - val_accuracy: 0.9647\n",
      "Epoch 38/50\n",
      "980/980 [==============================] - 35s 36ms/step - loss: 0.0748 - accuracy: 0.9767 - val_loss: 0.0938 - val_accuracy: 0.9716\n",
      "Epoch 39/50\n",
      "980/980 [==============================] - 35s 36ms/step - loss: 0.0654 - accuracy: 0.9792 - val_loss: 0.0816 - val_accuracy: 0.9754\n",
      "Epoch 40/50\n",
      "980/980 [==============================] - 35s 36ms/step - loss: 0.0683 - accuracy: 0.9784 - val_loss: 0.1065 - val_accuracy: 0.9726\n",
      "Epoch 41/50\n",
      "980/980 [==============================] - 35s 36ms/step - loss: 0.0690 - accuracy: 0.9792 - val_loss: 0.0641 - val_accuracy: 0.9795\n",
      "Epoch 42/50\n",
      "980/980 [==============================] - 35s 36ms/step - loss: 0.0645 - accuracy: 0.9797 - val_loss: 0.0982 - val_accuracy: 0.9744\n",
      "Epoch 43/50\n",
      "980/980 [==============================] - 35s 36ms/step - loss: 0.0741 - accuracy: 0.9766 - val_loss: 0.1367 - val_accuracy: 0.9693\n",
      "Epoch 44/50\n",
      "980/980 [==============================] - 35s 36ms/step - loss: 0.0593 - accuracy: 0.9816 - val_loss: 0.0872 - val_accuracy: 0.9764\n",
      "Epoch 45/50\n",
      "980/980 [==============================] - 35s 36ms/step - loss: 0.0633 - accuracy: 0.9804 - val_loss: 0.0817 - val_accuracy: 0.9762\n",
      "Epoch 46/50\n",
      "980/980 [==============================] - 35s 36ms/step - loss: 0.0722 - accuracy: 0.9787 - val_loss: 0.1001 - val_accuracy: 0.9736\n",
      "Epoch 47/50\n",
      "980/980 [==============================] - 35s 36ms/step - loss: 0.0651 - accuracy: 0.9797 - val_loss: 0.0807 - val_accuracy: 0.9785\n",
      "Epoch 48/50\n",
      "980/980 [==============================] - 35s 36ms/step - loss: 0.0628 - accuracy: 0.9813 - val_loss: 0.0788 - val_accuracy: 0.9793\n",
      "Epoch 49/50\n",
      "980/980 [==============================] - 35s 36ms/step - loss: 0.0645 - accuracy: 0.9794 - val_loss: 0.0741 - val_accuracy: 0.9769\n",
      "Epoch 50/50\n",
      "980/980 [==============================] - 35s 36ms/step - loss: 0.0589 - accuracy: 0.9819 - val_loss: 0.0767 - val_accuracy: 0.9793\n"
     ]
    }
   ],
   "source": [
    "model.compile(optimizer = \"adam\", loss = tf.keras.losses.SparseCategoricalCrossentropy(from_logits = False), metrics = [\"accuracy\"])\n",
    "history = model.fit(\n",
    "    train_ds,\n",
    "    validation_data = val_ds,\n",
    "    batch_size = BATCH_SIZE,\n",
    "    verbose = 1,\n",
    "    epochs = 50\n",
    ")"
   ]
  },
  {
   "cell_type": "code",
   "execution_count": 89,
   "metadata": {},
   "outputs": [
    {
     "name": "stdout",
     "output_type": "stream",
     "text": [
      "124/124 [==============================] - 44s 10ms/step - loss: 0.0884 - accuracy: 0.9800\n"
     ]
    }
   ],
   "source": [
    "scores = model.evaluate(test_ds)"
   ]
  },
  {
   "cell_type": "code",
   "execution_count": 90,
   "metadata": {},
   "outputs": [
    {
     "data": {
      "text/plain": [
       "{'verbose': 1, 'epochs': 50, 'steps': 980}"
      ]
     },
     "execution_count": 90,
     "metadata": {},
     "output_type": "execute_result"
    }
   ],
   "source": [
    "history.params"
   ]
  },
  {
   "cell_type": "code",
   "execution_count": 91,
   "metadata": {},
   "outputs": [
    {
     "data": {
      "text/plain": [
       "dict_keys(['loss', 'accuracy', 'val_loss', 'val_accuracy'])"
      ]
     },
     "execution_count": 91,
     "metadata": {},
     "output_type": "execute_result"
    }
   ],
   "source": [
    "history.history.keys()"
   ]
  },
  {
   "cell_type": "markdown",
   "metadata": {},
   "source": [
    "Lets visualize accuracy and loss"
   ]
  },
  {
   "cell_type": "code",
   "execution_count": 92,
   "metadata": {},
   "outputs": [
    {
     "data": {
      "image/png": "[encoded data removed]",
      "text/plain": [
       "<Figure size 576x576 with 2 Axes>"
      ]
     },
     "metadata": {
      "needs_background": "light"
     },
     "output_type": "display_data"
    }
   ],
   "source": [
    "acc = history.history['accuracy']\n",
    "val_acc = history.history['val_accuracy']\n",
    "\n",
    "loss = history.history['loss']\n",
    "val_loss = history.history['val_loss']\n",
    "\n",
    "plt.figure(figsize = (8,8))\n",
    "plt.subplot(1,2,1)\n",
    "plt.plot(range(EPOCHS), acc, label = 'Training Accuracy')\n",
    "plt.plot(range(EPOCHS), val_acc, label = 'Validation Accuracy')\n",
    "plt.legend(loc='lower right')\n",
    "plt.title('Training and Validation Accuracy')\n",
    "\n",
    "plt.subplot(1,2,2)\n",
    "plt.plot(range(EPOCHS), loss, label = 'Training Loss')\n",
    "plt.plot(range(EPOCHS), val_loss, label = 'Validation Loss')\n",
    "plt.legend(loc = 'upper right')\n",
    "plt.title('Training and Validation Loss')\n",
    "plt.show()"
   ]
  },
  {
   "cell_type": "code",
   "execution_count": 97,
   "metadata": {},
   "outputs": [
    {
     "name": "stdout",
     "output_type": "stream",
     "text": [
      "at the index in the dataset:25\n",
      "Wild animals crossing\n"
     ]
    },
    {
     "data": {
      "image/png": "[encoded data removed]",
      "text/plain": [
       "<Figure size 432x288 with 1 Axes>"
      ]
     },
     "metadata": {
      "needs_background": "light"
     },
     "output_type": "display_data"
    }
   ],
   "source": [
    "for images, labels in test_ds.take(1):\n",
    "    index = 0\n",
    "    print(f\"at the index in the dataset:{labels[index]}\")\n",
    "    plt.imshow(images[index].numpy().astype(\"uint8\"))\n",
    "    print(CLASS_NAMES[labels[index].numpy()])\n"
   ]
  },
  {
   "cell_type": "code",
   "execution_count": 98,
   "metadata": {},
   "outputs": [
    {
     "name": "stdout",
     "output_type": "stream",
     "text": [
      "the index number of class according to dataset: 34\n",
      "actual image: Speed limit (70km/h)\n",
      "predicted_class: Speed limit (70km/h)\n"
     ]
    },
    {
     "data": {
      "image/png": "[encoded data removed]",
      "text/plain": [
       "<Figure size 432x288 with 1 Axes>"
      ]
     },
     "metadata": {
      "needs_background": "light"
     },
     "output_type": "display_data"
    }
   ],
   "source": [
    "for images, labels in test_ds.take(1):\n",
    "    index = 4\n",
    "    plt.imshow(images[index].numpy().astype(\"uint8\"))\n",
    "    print(\"the index number of class according to dataset:\",labels[index].numpy())\n",
    "    print(\"actual image:\", CLASS_NAMES[labels[index].numpy()])\n",
    "    preds = model.predict(images)\n",
    "    predicted_class = CLASS_NAMES[np.argmax(preds[index])]\n",
    "    print(\"predicted_class:\", predicted_class)"
   ]
  },
  {
   "cell_type": "markdown",
   "metadata": {},
   "source": [
    "LETS WRITE A FUNCTION FOR INFERENCE"
   ]
  },
  {
   "cell_type": "code",
   "execution_count": 99,
   "metadata": {},
   "outputs": [],
   "source": [
    "def predict(model, img):\n",
    "    img_to_array = tf.keras.preprocessing.image.img_to_array(img)\n",
    "    img_to_array = np.expand_dims(img_to_array, 0)\n",
    "\n",
    "    preds = model.predict(img_to_array)\n",
    "    predicted_class = CLASS_NAMES[np.argmax(preds[0])]\n",
    "    confidence = round(100*(np.max(preds[0])), 2)\n",
    "    return predicted_class, confidence"
   ]
  },
  {
   "cell_type": "markdown",
   "metadata": {},
   "source": [
    "NOW RUN INFERENCE ON FEW SAMPLE IMAGES"
   ]
  },
  {
   "cell_type": "code",
   "execution_count": 100,
   "metadata": {},
   "outputs": [
    {
     "data": {
      "image/png": "[encoded data removed]",
      "text/plain": [
       "<Figure size 1080x1080 with 9 Axes>"
      ]
     },
     "metadata": {
      "needs_background": "light"
     },
     "output_type": "display_data"
    }
   ],
   "source": [
    "plt.figure(figsize = (15,15))\n",
    "for images, labels in test_ds.take(1):\n",
    "    for i in range(9):\n",
    "        layout = plt.subplot(3,3,i+1)\n",
    "        plt.imshow(images[i].numpy().astype('uint8'))\n",
    "        predicted_class, confidence = predict(model, images[i].numpy())\n",
    "        actual_class = CLASS_NAMES[labels[i]]\n",
    "\n",
    "        plt.title(f\"Actual: {actual_class} \\n Predicted: {predicted_class}, \\n Confidence: {confidence}\")\n",
    "        plt.axis(\"off\")"
   ]
  }
 ],
 "metadata": {
  "kernelspec": {
   "display_name": "Python 3",
   "language": "python",
   "name": "python3"
  },
  "language_info": {
   "codemirror_mode": {
    "name": "ipython",
    "version": 3
   },
   "file_extension": ".py",
   "mimetype": "text/x-python",
   "name": "python",
   "nbconvert_exporter": "python",
   "pygments_lexer": "ipython3",
   "version": "3.9.7"
  },
  "orig_nbformat": 4
 },
 "nbformat": 4,
 "nbformat_minor": 2
}
