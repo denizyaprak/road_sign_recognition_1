{
 "cells": [
  {
   "cell_type": "code",
   "execution_count": 1,
   "metadata": {},
   "outputs": [],
   "source": [
    "import tensorflow as tf\n",
    "from tensorflow.keras import layers, models\n",
    "import numpy as np\n",
    "import matplotlib.pyplot as plt\n"
   ]
  },
  {
   "cell_type": "code",
   "execution_count": 2,
   "metadata": {},
   "outputs": [],
   "source": [
    "IMAGE_SIZE = 30\n",
    "BATCH_SIZE = 32\n",
    "CHANNELS = 3\n",
    "EPOCHS = 50"
   ]
  },
  {
   "cell_type": "code",
   "execution_count": 3,
   "metadata": {},
   "outputs": [
    {
     "name": "stdout",
     "output_type": "stream",
     "text": [
      "Found 39209 files belonging to 43 classes.\n"
     ]
    }
   ],
   "source": [
    "dataset = tf.keras.preprocessing.image_dataset_from_directory(\n",
    "    'Train',\n",
    "    shuffle = True,\n",
    "    batch_size = BATCH_SIZE,\n",
    "    image_size = (IMAGE_SIZE, IMAGE_SIZE),\n",
    "    seed = 123,\n",
    ")"
   ]
  },
  {
   "cell_type": "code",
   "execution_count": 4,
   "metadata": {},
   "outputs": [
    {
     "data": {
      "text/plain": [
       "['0',\n",
       " '1',\n",
       " '10',\n",
       " '11',\n",
       " '12',\n",
       " '13',\n",
       " '14',\n",
       " '15',\n",
       " '16',\n",
       " '17',\n",
       " '18',\n",
       " '19',\n",
       " '2',\n",
       " '20',\n",
       " '21',\n",
       " '22',\n",
       " '23',\n",
       " '24',\n",
       " '25',\n",
       " '26',\n",
       " '27',\n",
       " '28',\n",
       " '29',\n",
       " '3',\n",
       " '30',\n",
       " '31',\n",
       " '32',\n",
       " '33',\n",
       " '34',\n",
       " '35',\n",
       " '36',\n",
       " '37',\n",
       " '38',\n",
       " '39',\n",
       " '4',\n",
       " '40',\n",
       " '41',\n",
       " '42',\n",
       " '5',\n",
       " '6',\n",
       " '7',\n",
       " '8',\n",
       " '9']"
      ]
     },
     "execution_count": 4,
     "metadata": {},
     "output_type": "execute_result"
    }
   ],
   "source": [
    "cls_names = dataset.class_names\n",
    "cls_names"
   ]
  },
  {
   "cell_type": "code",
   "execution_count": 5,
   "metadata": {},
   "outputs": [
    {
     "data": {
      "text/plain": [
       "[0,\n",
       " 1,\n",
       " 10,\n",
       " 11,\n",
       " 12,\n",
       " 13,\n",
       " 14,\n",
       " 15,\n",
       " 16,\n",
       " 17,\n",
       " 18,\n",
       " 19,\n",
       " 2,\n",
       " 20,\n",
       " 21,\n",
       " 22,\n",
       " 23,\n",
       " 24,\n",
       " 25,\n",
       " 26,\n",
       " 27,\n",
       " 28,\n",
       " 29,\n",
       " 3,\n",
       " 30,\n",
       " 31,\n",
       " 32,\n",
       " 33,\n",
       " 34,\n",
       " 35,\n",
       " 36,\n",
       " 37,\n",
       " 38,\n",
       " 39,\n",
       " 4,\n",
       " 40,\n",
       " 41,\n",
       " 42,\n",
       " 5,\n",
       " 6,\n",
       " 7,\n",
       " 8,\n",
       " 9]"
      ]
     },
     "execution_count": 5,
     "metadata": {},
     "output_type": "execute_result"
    }
   ],
   "source": [
    "class_names_in_num = list(cls_names)\n",
    "class_names_in_num = [int(i) for i in class_names_in_num]\n",
    "class_names_in_num"
   ]
  },
  {
   "cell_type": "code",
   "execution_count": 6,
   "metadata": {},
   "outputs": [],
   "source": [
    "# Classes of trafic signs\n",
    "classes = { 0:'Speed limit (20km/h)',\n",
    "            1:'Speed limit (30km/h)', \n",
    "            2:'Speed limit (50km/h)', \n",
    "            3:'Speed limit (60km/h)', \n",
    "            4:'Speed limit (70km/h)', \n",
    "            5:'Speed limit (80km/h)', \n",
    "            6:'End of speed limit (80km/h)', \n",
    "            7:'Speed limit (100km/h)', \n",
    "            8:'Speed limit (120km/h)', \n",
    "            9:'No passing', \n",
    "            10:'No passing veh over 3.5 tons', \n",
    "            11:'Right-of-way at intersection', \n",
    "            12:'Priority road', \n",
    "            13:'Yield', \n",
    "            14:'Stop', \n",
    "            15:'No vehicles', \n",
    "            16:'Veh > 3.5 tons prohibited', \n",
    "            17:'No entry', \n",
    "            18:'General caution', \n",
    "            19:'Dangerous curve left', \n",
    "            20:'Dangerous curve right', \n",
    "            21:'Double curve', \n",
    "            22:'Bumpy road', \n",
    "            23:'Slippery road', \n",
    "            24:'Road narrows on the right', \n",
    "            25:'Road work', \n",
    "            26:'Traffic signals', \n",
    "            27:'Pedestrians', \n",
    "            28:'Children crossing', \n",
    "            29:'Bicycles crossing', \n",
    "            30:'Beware of ice/snow',\n",
    "            31:'Wild animals crossing', \n",
    "            32:'End speed + passing limits', \n",
    "            33:'Turn right ahead', \n",
    "            34:'Turn left ahead', \n",
    "            35:'Ahead only', \n",
    "            36:'Go straight or right', \n",
    "            37:'Go straight or left', \n",
    "            38:'Keep right', \n",
    "            39:'Keep left', \n",
    "            40:'Roundabout mandatory', \n",
    "            41:'End of no passing', \n",
    "            42:'End no passing veh > 3.5 tons' }\n"
   ]
  },
  {
   "cell_type": "code",
   "execution_count": 7,
   "metadata": {},
   "outputs": [
    {
     "data": {
      "text/plain": [
       "['Speed limit (20km/h)',\n",
       " 'Speed limit (30km/h)',\n",
       " 'No passing veh over 3.5 tons',\n",
       " 'Right-of-way at intersection',\n",
       " 'Priority road',\n",
       " 'Yield',\n",
       " 'Stop',\n",
       " 'No vehicles',\n",
       " 'Veh > 3.5 tons prohibited',\n",
       " 'No entry',\n",
       " 'General caution',\n",
       " 'Dangerous curve left',\n",
       " 'Speed limit (50km/h)',\n",
       " 'Dangerous curve right',\n",
       " 'Double curve',\n",
       " 'Bumpy road',\n",
       " 'Slippery road',\n",
       " 'Road narrows on the right',\n",
       " 'Road work',\n",
       " 'Traffic signals',\n",
       " 'Pedestrians',\n",
       " 'Children crossing',\n",
       " 'Bicycles crossing',\n",
       " 'Speed limit (60km/h)',\n",
       " 'Beware of ice/snow',\n",
       " 'Wild animals crossing',\n",
       " 'End speed + passing limits',\n",
       " 'Turn right ahead',\n",
       " 'Turn left ahead',\n",
       " 'Ahead only',\n",
       " 'Go straight or right',\n",
       " 'Go straight or left',\n",
       " 'Keep right',\n",
       " 'Keep left',\n",
       " 'Speed limit (70km/h)',\n",
       " 'Roundabout mandatory',\n",
       " 'End of no passing',\n",
       " 'End no passing veh > 3.5 tons',\n",
       " 'Speed limit (80km/h)',\n",
       " 'End of speed limit (80km/h)',\n",
       " 'Speed limit (100km/h)',\n",
       " 'Speed limit (120km/h)',\n",
       " 'No passing']"
      ]
     },
     "execution_count": 7,
     "metadata": {},
     "output_type": "execute_result"
    }
   ],
   "source": [
    "CLASS_NAMES = []\n",
    "for i in class_names_in_num:\n",
    "    CLASS_NAMES.append(classes[i])\n",
    "CLASS_NAMES"
   ]
  },
  {
   "cell_type": "code",
   "execution_count": 8,
   "metadata": {},
   "outputs": [
    {
     "data": {
      "text/plain": [
       "1226"
      ]
     },
     "execution_count": 8,
     "metadata": {},
     "output_type": "execute_result"
    }
   ],
   "source": [
    "len(dataset)"
   ]
  },
  {
   "cell_type": "code",
   "execution_count": 9,
   "metadata": {},
   "outputs": [
    {
     "name": "stdout",
     "output_type": "stream",
     "text": [
      "(32, 30, 30, 3)\n",
      "[ 5 17  9  5  3 18 15 23 32 39 42  5 36 28 23  1 18 12 40 38  4 32 23 42\n",
      " 40  6  1 38 41 21 40  2]\n"
     ]
    }
   ],
   "source": [
    "for images, labels in dataset.take(1):\n",
    "    print(images.shape)\n",
    "    print(labels.numpy())\n"
   ]
  },
  {
   "cell_type": "code",
   "execution_count": 10,
   "metadata": {},
   "outputs": [
    {
     "name": "stdout",
     "output_type": "stream",
     "text": [
      "the number of batches for training: 980\n",
      "the number of batches for validation: 122\n",
      "the number of batches for testing: 124\n"
     ]
    }
   ],
   "source": [
    "def get_train_test_split(ds, train_split = 0.8, val_split = 0.1, test_split = 0.1, shuffle = True, shuffle_size = 1000):\n",
    "    assert(train_split + val_split + test_split) == 1\n",
    "    if shuffle:\n",
    "        ds.shuffle(shuffle_size, seed = 12)\n",
    "    ds_size = len(ds)\n",
    "    train_size = int(ds_size*train_split)\n",
    "    val_size = int(ds_size*val_split)\n",
    "\n",
    "    train_ds = ds.take(train_size)\n",
    "    val_ds = ds.skip(train_size).take(val_size)\n",
    "    test_ds = ds.skip(train_size).skip(val_size)\n",
    "\n",
    "    return train_ds, val_ds, test_ds\n",
    "\n",
    "train_ds, val_ds, test_ds = get_train_test_split(ds = dataset)\n",
    "\n",
    "print(f\"the number of batches for training: {len(train_ds)}\")\n",
    "print(f\"the number of batches for validation: {len(val_ds)}\")\n",
    "print(f\"the number of batches for testing: {len(test_ds)}\")"
   ]
  },
  {
   "cell_type": "code",
   "execution_count": 11,
   "metadata": {},
   "outputs": [],
   "source": [
    "train_ds = train_ds.cache().shuffle(10000).prefetch(buffer_size = tf.data.AUTOTUNE)\n",
    "val_ds = val_ds.cache().shuffle(10000).prefetch(buffer_size = tf.data.AUTOTUNE)\n",
    "test_ds = test_ds.cache().shuffle(10000).prefetch(buffer_size = tf.data.AUTOTUNE)"
   ]
  },
  {
   "cell_type": "code",
   "execution_count": 13,
   "metadata": {},
   "outputs": [
    {
     "name": "stdout",
     "output_type": "stream",
     "text": [
      "Model: \"sequential_5\"\n",
      "_________________________________________________________________\n",
      "Layer (type)                 Output Shape              Param #   \n",
      "=================================================================\n",
      "sequential_3 (Sequential)    (32, 30, 30, 3)           0         \n",
      "_________________________________________________________________\n",
      "sequential_4 (Sequential)    (32, 30, 30, 3)           0         \n",
      "_________________________________________________________________\n",
      "conv2d_6 (Conv2D)            (32, 28, 28, 32)          896       \n",
      "_________________________________________________________________\n",
      "max_pooling2d_6 (MaxPooling2 (32, 14, 14, 32)          0         \n",
      "_________________________________________________________________\n",
      "conv2d_7 (Conv2D)            (32, 12, 12, 64)          18496     \n",
      "_________________________________________________________________\n",
      "max_pooling2d_7 (MaxPooling2 (32, 6, 6, 64)            0         \n",
      "_________________________________________________________________\n",
      "conv2d_8 (Conv2D)            (32, 4, 4, 64)            36928     \n",
      "_________________________________________________________________\n",
      "max_pooling2d_8 (MaxPooling2 (32, 2, 2, 64)            0         \n",
      "_________________________________________________________________\n",
      "flatten_1 (Flatten)          (32, 256)                 0         \n",
      "_________________________________________________________________\n",
      "dense_2 (Dense)              (32, 64)                  16448     \n",
      "_________________________________________________________________\n",
      "dense_3 (Dense)              (32, 43)                  2795      \n",
      "=================================================================\n",
      "Total params: 75,563\n",
      "Trainable params: 75,563\n",
      "Non-trainable params: 0\n",
      "_________________________________________________________________\n"
     ]
    }
   ],
   "source": [
    "resize_and_rescale = tf.keras.Sequential([\n",
    "    layers.experimental.preprocessing.Resizing(IMAGE_SIZE, IMAGE_SIZE),\n",
    "    layers.experimental.preprocessing.Rescaling(1/255),\n",
    "])\n",
    "\n",
    "data_augmentation = tf.keras.Sequential([\n",
    "    layers.experimental.preprocessing.RandomFlip(\"horizontal_and_vertical\"),\n",
    "    layers.experimental.preprocessing.RandomRotation(0.2),\n",
    "])\n",
    "\n",
    "INPUT_SHAPE = (BATCH_SIZE, IMAGE_SIZE, IMAGE_SIZE, CHANNELS)\n",
    "n_classes = len(CLASS_NAMES)  # 43\n",
    "\n",
    "model = tf.keras.models.Sequential([\n",
    "    resize_and_rescale,\n",
    "    data_augmentation,\n",
    "\n",
    "    layers.Conv2D(32, kernel_size = (3,3), activation = \"relu\", input_shape = INPUT_SHAPE), # 30 -(3-1) = 28\n",
    "    layers.MaxPooling2D(pool_size = (2,2)), # 28/2 = 14\n",
    "\n",
    "    layers.Conv2D(64, kernel_size = (3,3), activation= 'relu'), # 14 -(3-1) = 12\n",
    "    layers.MaxPooling2D(pool_size=(2,2)), # 12/2 = 6\n",
    "\n",
    "    layers.Conv2D(filters = 64, kernel_size = (3,3), activation = 'relu'), # 6-(3-1) = 4\n",
    "    layers.MaxPooling2D(pool_size=(2,2)), # 4/2 = 2\n",
    "\n",
    "\n",
    "    layers.Flatten(),\n",
    "    layers.Dense(64,activation = 'relu'),\n",
    "    layers.Dense(n_classes, activation='softmax')\n",
    "])\n",
    "\n",
    "model.build(input_shape = INPUT_SHAPE)\n",
    "model.summary()"
   ]
  },
  {
   "cell_type": "code",
   "execution_count": null,
   "metadata": {},
   "outputs": [],
   "source": [
    "model.compile(optimizer = \"adam\", loss = tf.keras.losses.SparseCategoricalCrossentropy(from_logits = False), metrics = [\"accuracy\"])\n",
    "history = model.fit(\n",
    "    train_ds,\n",
    "    validation_data = val_ds,\n",
    "    batch_size = BATCH_SIZE,\n",
    "    verbose = 1,\n",
    "    epochs = 50\n",
    ")"
   ]
  },
  {
   "cell_type": "code",
   "execution_count": 1,
   "metadata": {},
   "outputs": [],
   "source": [
    "import tensorflow as tf\n",
    "import matplotlib.pyplot as plt\n",
    "import numpy as np\n",
    "from tensorflow.keras import layers, models"
   ]
  },
  {
   "cell_type": "code",
   "execution_count": null,
   "metadata": {},
   "outputs": [],
   "source": [
    "BATCH_SIZE = 32\n",
    "IMAGE_SIZE = 256\n"
   ]
  },
  {
   "cell_type": "code",
   "execution_count": 1,
   "metadata": {},
   "outputs": [],
   "source": [
    "import tensorflow as tf\n",
    "import numpy as np\n",
    "import matplotlib.pyplot as plt\n",
    "from tensorflow.keras import models, layers"
   ]
  },
  {
   "cell_type": "code",
   "execution_count": 2,
   "metadata": {},
   "outputs": [],
   "source": [
    "BATCH_SIZE = 32\n",
    "IMAGE_SIZE = 512\n",
    "EPOCHS = 50\n",
    "CHANNELS = 3"
   ]
  },
  {
   "cell_type": "code",
   "execution_count": null,
   "metadata": {},
   "outputs": [],
   "source": [
    "dataset = tf.keras.preprocessing.image_dataset_from_directory(\n",
    "    \"Train\",\n",
    "    batch_size = BATCH_SIZE,\n",
    "    image_size = (IMAGE_SIZE, IMAGE_SIZE),\n",
    "    \n",
    ")"
   ]
  }
 ],
 "metadata": {
  "kernelspec": {
   "display_name": "Python 3",
   "language": "python",
   "name": "python3"
  },
  "language_info": {
   "codemirror_mode": {
    "name": "ipython",
    "version": 3
   },
   "file_extension": ".py",
   "mimetype": "text/x-python",
   "name": "python",
   "nbconvert_exporter": "python",
   "pygments_lexer": "ipython3",
   "version": "3.9.7"
  },
  "orig_nbformat": 4
 },
 "nbformat": 4,
 "nbformat_minor": 2
}
